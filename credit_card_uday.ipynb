{
 "cells": [
  {
   "cell_type": "code",
   "execution_count": 6,
   "metadata": {
    "ExecuteTime": {
     "end_time": "2022-04-10T09:45:08.864598Z",
     "start_time": "2022-04-10T09:44:58.781265Z"
    }
   },
   "outputs": [],
   "source": [
    "import pandas as pd\n",
    "import numpy as np\n",
    "import seaborn as sns\n",
    "from sklearn.preprocessing import MinMaxScaler\n",
    "#from imblearn.under_sampling import TomekLinks\n",
    "from sklearn.model_selection import train_test_split\n",
    "import matplotlib.pyplot as plt\n",
    "%matplotlib inline\n",
    "\n",
    "\n",
    "from sklearn.linear_model import LogisticRegression\n",
    "from sklearn.svm import SVC\n",
    "from sklearn.neighbors import KNeighborsClassifier\n",
    "from sklearn.tree import DecisionTreeClassifier\n",
    "from sklearn.ensemble import RandomForestClassifier\n",
    "\n",
    "from sklearn.metrics import confusion_matrix,precision_score,recall_score\n",
    "from sklearn.model_selection import GridSearchCV"
   ]
  },
  {
   "cell_type": "markdown",
   "metadata": {},
   "source": [
    "The dataset contains *transactions made by credit cards in September 2013 by European cardholders*.<br>\n",
    "This dataset presents transactions that occurred in two days, where we have **492 frauds** out of **284,807 transactions**. The dataset is **highly unbalanced**, the positive class (frauds) account for **0.172%** of all transactions."
   ]
  },
  {
   "cell_type": "markdown",
   "metadata": {},
   "source": [
    "# DATA PREPROCEESSING\n"
   ]
  },
  {
   "cell_type": "code",
   "execution_count": 7,
   "metadata": {
    "ExecuteTime": {
     "end_time": "2022-04-10T09:45:15.051674Z",
     "start_time": "2022-04-10T09:45:08.871708Z"
    }
   },
   "outputs": [
    {
     "data": {
      "text/html": [
       "<div>\n",
       "<style scoped>\n",
       "    .dataframe tbody tr th:only-of-type {\n",
       "        vertical-align: middle;\n",
       "    }\n",
       "\n",
       "    .dataframe tbody tr th {\n",
       "        vertical-align: top;\n",
       "    }\n",
       "\n",
       "    .dataframe thead th {\n",
       "        text-align: right;\n",
       "    }\n",
       "</style>\n",
       "<table border=\"1\" class=\"dataframe\">\n",
       "  <thead>\n",
       "    <tr style=\"text-align: right;\">\n",
       "      <th></th>\n",
       "      <th>Time</th>\n",
       "      <th>V1</th>\n",
       "      <th>V2</th>\n",
       "      <th>V3</th>\n",
       "      <th>V4</th>\n",
       "      <th>V5</th>\n",
       "      <th>V6</th>\n",
       "      <th>V7</th>\n",
       "      <th>V8</th>\n",
       "      <th>V9</th>\n",
       "      <th>...</th>\n",
       "      <th>V21</th>\n",
       "      <th>V22</th>\n",
       "      <th>V23</th>\n",
       "      <th>V24</th>\n",
       "      <th>V25</th>\n",
       "      <th>V26</th>\n",
       "      <th>V27</th>\n",
       "      <th>V28</th>\n",
       "      <th>Amount</th>\n",
       "      <th>Class</th>\n",
       "    </tr>\n",
       "  </thead>\n",
       "  <tbody>\n",
       "    <tr>\n",
       "      <th>0</th>\n",
       "      <td>0.0</td>\n",
       "      <td>-1.359807</td>\n",
       "      <td>-0.072781</td>\n",
       "      <td>2.536347</td>\n",
       "      <td>1.378155</td>\n",
       "      <td>-0.338321</td>\n",
       "      <td>0.462388</td>\n",
       "      <td>0.239599</td>\n",
       "      <td>0.098698</td>\n",
       "      <td>0.363787</td>\n",
       "      <td>...</td>\n",
       "      <td>-0.018307</td>\n",
       "      <td>0.277838</td>\n",
       "      <td>-0.110474</td>\n",
       "      <td>0.066928</td>\n",
       "      <td>0.128539</td>\n",
       "      <td>-0.189115</td>\n",
       "      <td>0.133558</td>\n",
       "      <td>-0.021053</td>\n",
       "      <td>149.62</td>\n",
       "      <td>0</td>\n",
       "    </tr>\n",
       "    <tr>\n",
       "      <th>1</th>\n",
       "      <td>0.0</td>\n",
       "      <td>1.191857</td>\n",
       "      <td>0.266151</td>\n",
       "      <td>0.166480</td>\n",
       "      <td>0.448154</td>\n",
       "      <td>0.060018</td>\n",
       "      <td>-0.082361</td>\n",
       "      <td>-0.078803</td>\n",
       "      <td>0.085102</td>\n",
       "      <td>-0.255425</td>\n",
       "      <td>...</td>\n",
       "      <td>-0.225775</td>\n",
       "      <td>-0.638672</td>\n",
       "      <td>0.101288</td>\n",
       "      <td>-0.339846</td>\n",
       "      <td>0.167170</td>\n",
       "      <td>0.125895</td>\n",
       "      <td>-0.008983</td>\n",
       "      <td>0.014724</td>\n",
       "      <td>2.69</td>\n",
       "      <td>0</td>\n",
       "    </tr>\n",
       "    <tr>\n",
       "      <th>2</th>\n",
       "      <td>1.0</td>\n",
       "      <td>-1.358354</td>\n",
       "      <td>-1.340163</td>\n",
       "      <td>1.773209</td>\n",
       "      <td>0.379780</td>\n",
       "      <td>-0.503198</td>\n",
       "      <td>1.800499</td>\n",
       "      <td>0.791461</td>\n",
       "      <td>0.247676</td>\n",
       "      <td>-1.514654</td>\n",
       "      <td>...</td>\n",
       "      <td>0.247998</td>\n",
       "      <td>0.771679</td>\n",
       "      <td>0.909412</td>\n",
       "      <td>-0.689281</td>\n",
       "      <td>-0.327642</td>\n",
       "      <td>-0.139097</td>\n",
       "      <td>-0.055353</td>\n",
       "      <td>-0.059752</td>\n",
       "      <td>378.66</td>\n",
       "      <td>0</td>\n",
       "    </tr>\n",
       "    <tr>\n",
       "      <th>3</th>\n",
       "      <td>1.0</td>\n",
       "      <td>-0.966272</td>\n",
       "      <td>-0.185226</td>\n",
       "      <td>1.792993</td>\n",
       "      <td>-0.863291</td>\n",
       "      <td>-0.010309</td>\n",
       "      <td>1.247203</td>\n",
       "      <td>0.237609</td>\n",
       "      <td>0.377436</td>\n",
       "      <td>-1.387024</td>\n",
       "      <td>...</td>\n",
       "      <td>-0.108300</td>\n",
       "      <td>0.005274</td>\n",
       "      <td>-0.190321</td>\n",
       "      <td>-1.175575</td>\n",
       "      <td>0.647376</td>\n",
       "      <td>-0.221929</td>\n",
       "      <td>0.062723</td>\n",
       "      <td>0.061458</td>\n",
       "      <td>123.50</td>\n",
       "      <td>0</td>\n",
       "    </tr>\n",
       "    <tr>\n",
       "      <th>4</th>\n",
       "      <td>2.0</td>\n",
       "      <td>-1.158233</td>\n",
       "      <td>0.877737</td>\n",
       "      <td>1.548718</td>\n",
       "      <td>0.403034</td>\n",
       "      <td>-0.407193</td>\n",
       "      <td>0.095921</td>\n",
       "      <td>0.592941</td>\n",
       "      <td>-0.270533</td>\n",
       "      <td>0.817739</td>\n",
       "      <td>...</td>\n",
       "      <td>-0.009431</td>\n",
       "      <td>0.798278</td>\n",
       "      <td>-0.137458</td>\n",
       "      <td>0.141267</td>\n",
       "      <td>-0.206010</td>\n",
       "      <td>0.502292</td>\n",
       "      <td>0.219422</td>\n",
       "      <td>0.215153</td>\n",
       "      <td>69.99</td>\n",
       "      <td>0</td>\n",
       "    </tr>\n",
       "    <tr>\n",
       "      <th>...</th>\n",
       "      <td>...</td>\n",
       "      <td>...</td>\n",
       "      <td>...</td>\n",
       "      <td>...</td>\n",
       "      <td>...</td>\n",
       "      <td>...</td>\n",
       "      <td>...</td>\n",
       "      <td>...</td>\n",
       "      <td>...</td>\n",
       "      <td>...</td>\n",
       "      <td>...</td>\n",
       "      <td>...</td>\n",
       "      <td>...</td>\n",
       "      <td>...</td>\n",
       "      <td>...</td>\n",
       "      <td>...</td>\n",
       "      <td>...</td>\n",
       "      <td>...</td>\n",
       "      <td>...</td>\n",
       "      <td>...</td>\n",
       "      <td>...</td>\n",
       "    </tr>\n",
       "    <tr>\n",
       "      <th>284802</th>\n",
       "      <td>172786.0</td>\n",
       "      <td>-11.881118</td>\n",
       "      <td>10.071785</td>\n",
       "      <td>-9.834783</td>\n",
       "      <td>-2.066656</td>\n",
       "      <td>-5.364473</td>\n",
       "      <td>-2.606837</td>\n",
       "      <td>-4.918215</td>\n",
       "      <td>7.305334</td>\n",
       "      <td>1.914428</td>\n",
       "      <td>...</td>\n",
       "      <td>0.213454</td>\n",
       "      <td>0.111864</td>\n",
       "      <td>1.014480</td>\n",
       "      <td>-0.509348</td>\n",
       "      <td>1.436807</td>\n",
       "      <td>0.250034</td>\n",
       "      <td>0.943651</td>\n",
       "      <td>0.823731</td>\n",
       "      <td>0.77</td>\n",
       "      <td>0</td>\n",
       "    </tr>\n",
       "    <tr>\n",
       "      <th>284803</th>\n",
       "      <td>172787.0</td>\n",
       "      <td>-0.732789</td>\n",
       "      <td>-0.055080</td>\n",
       "      <td>2.035030</td>\n",
       "      <td>-0.738589</td>\n",
       "      <td>0.868229</td>\n",
       "      <td>1.058415</td>\n",
       "      <td>0.024330</td>\n",
       "      <td>0.294869</td>\n",
       "      <td>0.584800</td>\n",
       "      <td>...</td>\n",
       "      <td>0.214205</td>\n",
       "      <td>0.924384</td>\n",
       "      <td>0.012463</td>\n",
       "      <td>-1.016226</td>\n",
       "      <td>-0.606624</td>\n",
       "      <td>-0.395255</td>\n",
       "      <td>0.068472</td>\n",
       "      <td>-0.053527</td>\n",
       "      <td>24.79</td>\n",
       "      <td>0</td>\n",
       "    </tr>\n",
       "    <tr>\n",
       "      <th>284804</th>\n",
       "      <td>172788.0</td>\n",
       "      <td>1.919565</td>\n",
       "      <td>-0.301254</td>\n",
       "      <td>-3.249640</td>\n",
       "      <td>-0.557828</td>\n",
       "      <td>2.630515</td>\n",
       "      <td>3.031260</td>\n",
       "      <td>-0.296827</td>\n",
       "      <td>0.708417</td>\n",
       "      <td>0.432454</td>\n",
       "      <td>...</td>\n",
       "      <td>0.232045</td>\n",
       "      <td>0.578229</td>\n",
       "      <td>-0.037501</td>\n",
       "      <td>0.640134</td>\n",
       "      <td>0.265745</td>\n",
       "      <td>-0.087371</td>\n",
       "      <td>0.004455</td>\n",
       "      <td>-0.026561</td>\n",
       "      <td>67.88</td>\n",
       "      <td>0</td>\n",
       "    </tr>\n",
       "    <tr>\n",
       "      <th>284805</th>\n",
       "      <td>172788.0</td>\n",
       "      <td>-0.240440</td>\n",
       "      <td>0.530483</td>\n",
       "      <td>0.702510</td>\n",
       "      <td>0.689799</td>\n",
       "      <td>-0.377961</td>\n",
       "      <td>0.623708</td>\n",
       "      <td>-0.686180</td>\n",
       "      <td>0.679145</td>\n",
       "      <td>0.392087</td>\n",
       "      <td>...</td>\n",
       "      <td>0.265245</td>\n",
       "      <td>0.800049</td>\n",
       "      <td>-0.163298</td>\n",
       "      <td>0.123205</td>\n",
       "      <td>-0.569159</td>\n",
       "      <td>0.546668</td>\n",
       "      <td>0.108821</td>\n",
       "      <td>0.104533</td>\n",
       "      <td>10.00</td>\n",
       "      <td>0</td>\n",
       "    </tr>\n",
       "    <tr>\n",
       "      <th>284806</th>\n",
       "      <td>172792.0</td>\n",
       "      <td>-0.533413</td>\n",
       "      <td>-0.189733</td>\n",
       "      <td>0.703337</td>\n",
       "      <td>-0.506271</td>\n",
       "      <td>-0.012546</td>\n",
       "      <td>-0.649617</td>\n",
       "      <td>1.577006</td>\n",
       "      <td>-0.414650</td>\n",
       "      <td>0.486180</td>\n",
       "      <td>...</td>\n",
       "      <td>0.261057</td>\n",
       "      <td>0.643078</td>\n",
       "      <td>0.376777</td>\n",
       "      <td>0.008797</td>\n",
       "      <td>-0.473649</td>\n",
       "      <td>-0.818267</td>\n",
       "      <td>-0.002415</td>\n",
       "      <td>0.013649</td>\n",
       "      <td>217.00</td>\n",
       "      <td>0</td>\n",
       "    </tr>\n",
       "  </tbody>\n",
       "</table>\n",
       "<p>284807 rows × 31 columns</p>\n",
       "</div>"
      ],
      "text/plain": [
       "            Time         V1         V2        V3        V4        V5  \\\n",
       "0            0.0  -1.359807  -0.072781  2.536347  1.378155 -0.338321   \n",
       "1            0.0   1.191857   0.266151  0.166480  0.448154  0.060018   \n",
       "2            1.0  -1.358354  -1.340163  1.773209  0.379780 -0.503198   \n",
       "3            1.0  -0.966272  -0.185226  1.792993 -0.863291 -0.010309   \n",
       "4            2.0  -1.158233   0.877737  1.548718  0.403034 -0.407193   \n",
       "...          ...        ...        ...       ...       ...       ...   \n",
       "284802  172786.0 -11.881118  10.071785 -9.834783 -2.066656 -5.364473   \n",
       "284803  172787.0  -0.732789  -0.055080  2.035030 -0.738589  0.868229   \n",
       "284804  172788.0   1.919565  -0.301254 -3.249640 -0.557828  2.630515   \n",
       "284805  172788.0  -0.240440   0.530483  0.702510  0.689799 -0.377961   \n",
       "284806  172792.0  -0.533413  -0.189733  0.703337 -0.506271 -0.012546   \n",
       "\n",
       "              V6        V7        V8        V9  ...       V21       V22  \\\n",
       "0       0.462388  0.239599  0.098698  0.363787  ... -0.018307  0.277838   \n",
       "1      -0.082361 -0.078803  0.085102 -0.255425  ... -0.225775 -0.638672   \n",
       "2       1.800499  0.791461  0.247676 -1.514654  ...  0.247998  0.771679   \n",
       "3       1.247203  0.237609  0.377436 -1.387024  ... -0.108300  0.005274   \n",
       "4       0.095921  0.592941 -0.270533  0.817739  ... -0.009431  0.798278   \n",
       "...          ...       ...       ...       ...  ...       ...       ...   \n",
       "284802 -2.606837 -4.918215  7.305334  1.914428  ...  0.213454  0.111864   \n",
       "284803  1.058415  0.024330  0.294869  0.584800  ...  0.214205  0.924384   \n",
       "284804  3.031260 -0.296827  0.708417  0.432454  ...  0.232045  0.578229   \n",
       "284805  0.623708 -0.686180  0.679145  0.392087  ...  0.265245  0.800049   \n",
       "284806 -0.649617  1.577006 -0.414650  0.486180  ...  0.261057  0.643078   \n",
       "\n",
       "             V23       V24       V25       V26       V27       V28  Amount  \\\n",
       "0      -0.110474  0.066928  0.128539 -0.189115  0.133558 -0.021053  149.62   \n",
       "1       0.101288 -0.339846  0.167170  0.125895 -0.008983  0.014724    2.69   \n",
       "2       0.909412 -0.689281 -0.327642 -0.139097 -0.055353 -0.059752  378.66   \n",
       "3      -0.190321 -1.175575  0.647376 -0.221929  0.062723  0.061458  123.50   \n",
       "4      -0.137458  0.141267 -0.206010  0.502292  0.219422  0.215153   69.99   \n",
       "...          ...       ...       ...       ...       ...       ...     ...   \n",
       "284802  1.014480 -0.509348  1.436807  0.250034  0.943651  0.823731    0.77   \n",
       "284803  0.012463 -1.016226 -0.606624 -0.395255  0.068472 -0.053527   24.79   \n",
       "284804 -0.037501  0.640134  0.265745 -0.087371  0.004455 -0.026561   67.88   \n",
       "284805 -0.163298  0.123205 -0.569159  0.546668  0.108821  0.104533   10.00   \n",
       "284806  0.376777  0.008797 -0.473649 -0.818267 -0.002415  0.013649  217.00   \n",
       "\n",
       "        Class  \n",
       "0           0  \n",
       "1           0  \n",
       "2           0  \n",
       "3           0  \n",
       "4           0  \n",
       "...       ...  \n",
       "284802      0  \n",
       "284803      0  \n",
       "284804      0  \n",
       "284805      0  \n",
       "284806      0  \n",
       "\n",
       "[284807 rows x 31 columns]"
      ]
     },
     "execution_count": 7,
     "metadata": {},
     "output_type": "execute_result"
    }
   ],
   "source": [
    "df = pd.read_csv(\"creditcard.csv\")\n",
    "df"
   ]
  },
  {
   "cell_type": "markdown",
   "metadata": {},
   "source": [
    "It contains only numerical input variables which are the result of a **PCA transformation**. Unfortunately, due to **confidentiality issues**, we cannot provide the original features and more background information about the data. Features V1, V2, … V28 are the principal components obtained with PCA, the only features which have not been transformed with PCA are 'Time' and 'Amount'"
   ]
  },
  {
   "cell_type": "markdown",
   "metadata": {},
   "source": [
    "Here we use ProfileReport from pandas_profiling to understand Dataset and visualise them"
   ]
  },
  {
   "cell_type": "code",
   "execution_count": 9,
   "metadata": {},
   "outputs": [
    {
     "name": "stdout",
     "output_type": "stream",
     "text": [
      "<class 'pandas.core.frame.DataFrame'>\n",
      "RangeIndex: 284807 entries, 0 to 284806\n",
      "Data columns (total 31 columns):\n",
      " #   Column  Non-Null Count   Dtype  \n",
      "---  ------  --------------   -----  \n",
      " 0   Time    284807 non-null  float64\n",
      " 1   V1      284807 non-null  float64\n",
      " 2   V2      284807 non-null  float64\n",
      " 3   V3      284807 non-null  float64\n",
      " 4   V4      284807 non-null  float64\n",
      " 5   V5      284807 non-null  float64\n",
      " 6   V6      284807 non-null  float64\n",
      " 7   V7      284807 non-null  float64\n",
      " 8   V8      284807 non-null  float64\n",
      " 9   V9      284807 non-null  float64\n",
      " 10  V10     284807 non-null  float64\n",
      " 11  V11     284807 non-null  float64\n",
      " 12  V12     284807 non-null  float64\n",
      " 13  V13     284807 non-null  float64\n",
      " 14  V14     284807 non-null  float64\n",
      " 15  V15     284807 non-null  float64\n",
      " 16  V16     284807 non-null  float64\n",
      " 17  V17     284807 non-null  float64\n",
      " 18  V18     284807 non-null  float64\n",
      " 19  V19     284807 non-null  float64\n",
      " 20  V20     284807 non-null  float64\n",
      " 21  V21     284807 non-null  float64\n",
      " 22  V22     284807 non-null  float64\n",
      " 23  V23     284807 non-null  float64\n",
      " 24  V24     284807 non-null  float64\n",
      " 25  V25     284807 non-null  float64\n",
      " 26  V26     284807 non-null  float64\n",
      " 27  V27     284807 non-null  float64\n",
      " 28  V28     284807 non-null  float64\n",
      " 29  Amount  284807 non-null  float64\n",
      " 30  Class   284807 non-null  int64  \n",
      "dtypes: float64(30), int64(1)\n",
      "memory usage: 67.4 MB\n"
     ]
    }
   ],
   "source": [
    "df.info()"
   ]
  },
  {
   "cell_type": "markdown",
   "metadata": {},
   "source": [
    "<h1>Conclusions</h1>\n",
    "<li>All the features are numerical except for target frature \"Class\"(catogorical)</li>\n",
    "<li>There are no missing cells i.e no need for imputing</li>\n",
    "<li>As this is a large data set to work on and there is high corelation betweer features there is further scope for feature reduction through <strong>PCA</strong></li>\n",
    "<li>As the feature value are of wide range and there is no information about feature importance the data can be <strong>sclaled</strong> for better performance</li>"
   ]
  },
  {
   "cell_type": "code",
   "execution_count": 4,
   "metadata": {
    "ExecuteTime": {
     "end_time": "2022-04-10T09:58:20.217312Z",
     "start_time": "2022-04-10T09:58:20.203438Z"
    }
   },
   "outputs": [],
   "source": [
    "#removing duplicate vlaues\n",
    "#df = df.drop_duplicates()"
   ]
  },
  {
   "cell_type": "markdown",
   "metadata": {
    "ExecuteTime": {
     "end_time": "2022-04-10T06:54:39.133062Z",
     "start_time": "2022-04-10T06:54:39.120545Z"
    }
   },
   "source": [
    "## Visulatizations\n"
   ]
  },
  {
   "cell_type": "code",
   "execution_count": 10,
   "metadata": {
    "ExecuteTime": {
     "end_time": "2022-04-10T09:58:20.710526Z",
     "start_time": "2022-04-10T09:58:20.220303Z"
    }
   },
   "outputs": [
    {
     "name": "stdout",
     "output_type": "stream",
     "text": [
      "No of instances that are fraud 492\n",
      "No of instances that are not fraud 284315\n"
     ]
    },
    {
     "name": "stderr",
     "output_type": "stream",
     "text": [
      "C:\\ProgramData\\Anaconda3\\lib\\site-packages\\seaborn\\_decorators.py:36: FutureWarning: Pass the following variable as a keyword arg: x. From version 0.12, the only valid positional argument will be `data`, and passing other arguments without an explicit keyword will result in an error or misinterpretation.\n",
      "  warnings.warn(\n"
     ]
    },
    {
     "data": {
      "image/png": "[encoded data removed]",
      "text/plain": [
       "<Figure size 432x288 with 1 Axes>"
      ]
     },
     "metadata": {
      "needs_background": "light"
     },
     "output_type": "display_data"
    }
   ],
   "source": [
    "sns.countplot('Class', data = df)\n",
    "plt.title('Class Distributions \\n (0: No Fraud || 1: Fraud)', fontsize = 14)\n",
    "print(\"No of instances that are fraud\",df[df[\"Class\"]==1].shape[0])\n",
    "print(\"No of instances that are not fraud\",df[df[\"Class\"]==0].shape[0])\n",
    "plt.show()"
   ]
  },
  {
   "cell_type": "markdown",
   "metadata": {},
   "source": [
    "<li>Number of instances that are fraud 492</li>\n",
    "<li>Number of instances that are not fraud 284315</li>"
   ]
  },
  {
   "cell_type": "code",
   "execution_count": 13,
   "metadata": {
    "ExecuteTime": {
     "end_time": "2022-04-10T09:58:22.838255Z",
     "start_time": "2022-04-10T09:58:20.716143Z"
    }
   },
   "outputs": [
    {
     "name": "stderr",
     "output_type": "stream",
     "text": [
      "C:\\ProgramData\\Anaconda3\\lib\\site-packages\\seaborn\\distributions.py:2619: FutureWarning: `distplot` is a deprecated function and will be removed in a future version. Please adapt your code to use either `displot` (a figure-level function with similar flexibility) or `histplot` (an axes-level function for histograms).\n",
      "  warnings.warn(msg, FutureWarning)\n",
      "C:\\ProgramData\\Anaconda3\\lib\\site-packages\\seaborn\\distributions.py:2619: FutureWarning: `distplot` is a deprecated function and will be removed in a future version. Please adapt your code to use either `displot` (a figure-level function with similar flexibility) or `histplot` (an axes-level function for histograms).\n",
      "  warnings.warn(msg, FutureWarning)\n"
     ]
    },
    {
     "data": {
      "text/plain": [
       "(0.0, 172792.0)"
      ]
     },
     "execution_count": 13,
     "metadata": {},
     "output_type": "execute_result"
    },
    {
     "data": {
      "image/png": "[encoded data removed]",
      "text/plain": [
       "<Figure size 1296x288 with 2 Axes>"
      ]
     },
     "metadata": {
      "needs_background": "light"
     },
     "output_type": "display_data"
    }
   ],
   "source": [
    "fig, ax = plt.subplots(1, 2, figsize=(18,4))\n",
    "\n",
    "amount_val = df['Amount'].values\n",
    "time_val = df['Time'].values\n",
    "\n",
    "sns.distplot(amount_val, ax=ax[0], color='r')\n",
    "ax[0].set_title('Distribution of Transaction Amount', fontsize=14)\n",
    "ax[0].set_xlim([min(amount_val), max(amount_val)])\n",
    "\n",
    "sns.distplot(time_val, ax=ax[1], color='b')\n",
    "ax[1].set_title('Distribution of Transaction Time', fontsize=14)\n",
    "ax[1].set_xlim([min(time_val), max(time_val)])"
   ]
  },
  {
   "cell_type": "markdown",
   "metadata": {},
   "source": [
    "<h1>It is an highly imbalanced dataset</h1></br>\n",
    "<p>As we can see it is an highly imbalanced dataset.Machine learning algorithms for classificaton works better when the number of samples in each class are about equal.if we use accuracy as metrics an hypothetical function which given input, which always gives output as not fraud will give about 99.9% accuracy.</p></br>\n",
    "<p>Hence we resample data using under-sampling and over-sampling techniques(<strong>SMOTE</strong>)</p>"
   ]
  },
  {
   "cell_type": "code",
   "execution_count": 14,
   "metadata": {
    "ExecuteTime": {
     "end_time": "2022-04-10T09:58:22.916236Z",
     "start_time": "2022-04-10T09:58:22.840289Z"
    }
   },
   "outputs": [],
   "source": [
    "X = df.drop(['Class'], axis=1)#asigning all features except \"Class\" to dataframe X\n",
    "y = df['Class']#asigning target variable to y"
   ]
  },
  {
   "cell_type": "code",
   "execution_count": 15,
   "metadata": {
    "ExecuteTime": {
     "end_time": "2022-04-10T09:58:23.361456Z",
     "start_time": "2022-04-10T09:58:22.920562Z"
    }
   },
   "outputs": [
    {
     "data": {
      "text/html": [
       "<div>\n",
       "<style scoped>\n",
       "    .dataframe tbody tr th:only-of-type {\n",
       "        vertical-align: middle;\n",
       "    }\n",
       "\n",
       "    .dataframe tbody tr th {\n",
       "        vertical-align: top;\n",
       "    }\n",
       "\n",
       "    .dataframe thead th {\n",
       "        text-align: right;\n",
       "    }\n",
       "</style>\n",
       "<table border=\"1\" class=\"dataframe\">\n",
       "  <thead>\n",
       "    <tr style=\"text-align: right;\">\n",
       "      <th></th>\n",
       "      <th>Class</th>\n",
       "      <th>Time</th>\n",
       "      <th>V1</th>\n",
       "      <th>V2</th>\n",
       "      <th>V3</th>\n",
       "      <th>V4</th>\n",
       "      <th>V5</th>\n",
       "      <th>V6</th>\n",
       "      <th>V7</th>\n",
       "      <th>V8</th>\n",
       "      <th>...</th>\n",
       "      <th>V20</th>\n",
       "      <th>V21</th>\n",
       "      <th>V22</th>\n",
       "      <th>V23</th>\n",
       "      <th>V24</th>\n",
       "      <th>V25</th>\n",
       "      <th>V26</th>\n",
       "      <th>V27</th>\n",
       "      <th>V28</th>\n",
       "      <th>Amount</th>\n",
       "    </tr>\n",
       "  </thead>\n",
       "  <tbody>\n",
       "    <tr>\n",
       "      <th>0</th>\n",
       "      <td>0</td>\n",
       "      <td>0.000000</td>\n",
       "      <td>0.935192</td>\n",
       "      <td>0.766490</td>\n",
       "      <td>0.881365</td>\n",
       "      <td>0.313023</td>\n",
       "      <td>0.763439</td>\n",
       "      <td>0.267669</td>\n",
       "      <td>0.266815</td>\n",
       "      <td>0.786444</td>\n",
       "      <td>...</td>\n",
       "      <td>0.582942</td>\n",
       "      <td>0.561184</td>\n",
       "      <td>0.522992</td>\n",
       "      <td>0.663793</td>\n",
       "      <td>0.391253</td>\n",
       "      <td>0.585122</td>\n",
       "      <td>0.394557</td>\n",
       "      <td>0.418976</td>\n",
       "      <td>0.312697</td>\n",
       "      <td>0.005824</td>\n",
       "    </tr>\n",
       "    <tr>\n",
       "      <th>1</th>\n",
       "      <td>0</td>\n",
       "      <td>0.000000</td>\n",
       "      <td>0.978542</td>\n",
       "      <td>0.770067</td>\n",
       "      <td>0.840298</td>\n",
       "      <td>0.271796</td>\n",
       "      <td>0.766120</td>\n",
       "      <td>0.262192</td>\n",
       "      <td>0.264875</td>\n",
       "      <td>0.786298</td>\n",
       "      <td>...</td>\n",
       "      <td>0.579530</td>\n",
       "      <td>0.557840</td>\n",
       "      <td>0.480237</td>\n",
       "      <td>0.666938</td>\n",
       "      <td>0.336440</td>\n",
       "      <td>0.587290</td>\n",
       "      <td>0.446013</td>\n",
       "      <td>0.416345</td>\n",
       "      <td>0.313423</td>\n",
       "      <td>0.000105</td>\n",
       "    </tr>\n",
       "    <tr>\n",
       "      <th>2</th>\n",
       "      <td>0</td>\n",
       "      <td>0.000006</td>\n",
       "      <td>0.935217</td>\n",
       "      <td>0.753118</td>\n",
       "      <td>0.868141</td>\n",
       "      <td>0.268766</td>\n",
       "      <td>0.762329</td>\n",
       "      <td>0.281122</td>\n",
       "      <td>0.270177</td>\n",
       "      <td>0.788042</td>\n",
       "      <td>...</td>\n",
       "      <td>0.585855</td>\n",
       "      <td>0.565477</td>\n",
       "      <td>0.546030</td>\n",
       "      <td>0.678939</td>\n",
       "      <td>0.289354</td>\n",
       "      <td>0.559515</td>\n",
       "      <td>0.402727</td>\n",
       "      <td>0.415489</td>\n",
       "      <td>0.311911</td>\n",
       "      <td>0.014739</td>\n",
       "    </tr>\n",
       "    <tr>\n",
       "      <th>3</th>\n",
       "      <td>0</td>\n",
       "      <td>0.000006</td>\n",
       "      <td>0.941878</td>\n",
       "      <td>0.765304</td>\n",
       "      <td>0.868484</td>\n",
       "      <td>0.213661</td>\n",
       "      <td>0.765647</td>\n",
       "      <td>0.275559</td>\n",
       "      <td>0.266803</td>\n",
       "      <td>0.789434</td>\n",
       "      <td>...</td>\n",
       "      <td>0.578050</td>\n",
       "      <td>0.559734</td>\n",
       "      <td>0.510277</td>\n",
       "      <td>0.662607</td>\n",
       "      <td>0.223826</td>\n",
       "      <td>0.614245</td>\n",
       "      <td>0.389197</td>\n",
       "      <td>0.417669</td>\n",
       "      <td>0.314371</td>\n",
       "      <td>0.004807</td>\n",
       "    </tr>\n",
       "    <tr>\n",
       "      <th>4</th>\n",
       "      <td>0</td>\n",
       "      <td>0.000012</td>\n",
       "      <td>0.938617</td>\n",
       "      <td>0.776520</td>\n",
       "      <td>0.864251</td>\n",
       "      <td>0.269796</td>\n",
       "      <td>0.762975</td>\n",
       "      <td>0.263984</td>\n",
       "      <td>0.268968</td>\n",
       "      <td>0.782484</td>\n",
       "      <td>...</td>\n",
       "      <td>0.584615</td>\n",
       "      <td>0.561327</td>\n",
       "      <td>0.547271</td>\n",
       "      <td>0.663392</td>\n",
       "      <td>0.401270</td>\n",
       "      <td>0.566343</td>\n",
       "      <td>0.507497</td>\n",
       "      <td>0.420561</td>\n",
       "      <td>0.317490</td>\n",
       "      <td>0.002724</td>\n",
       "    </tr>\n",
       "    <tr>\n",
       "      <th>...</th>\n",
       "      <td>...</td>\n",
       "      <td>...</td>\n",
       "      <td>...</td>\n",
       "      <td>...</td>\n",
       "      <td>...</td>\n",
       "      <td>...</td>\n",
       "      <td>...</td>\n",
       "      <td>...</td>\n",
       "      <td>...</td>\n",
       "      <td>...</td>\n",
       "      <td>...</td>\n",
       "      <td>...</td>\n",
       "      <td>...</td>\n",
       "      <td>...</td>\n",
       "      <td>...</td>\n",
       "      <td>...</td>\n",
       "      <td>...</td>\n",
       "      <td>...</td>\n",
       "      <td>...</td>\n",
       "      <td>...</td>\n",
       "      <td>...</td>\n",
       "    </tr>\n",
       "    <tr>\n",
       "      <th>284802</th>\n",
       "      <td>0</td>\n",
       "      <td>0.999965</td>\n",
       "      <td>0.756448</td>\n",
       "      <td>0.873531</td>\n",
       "      <td>0.666991</td>\n",
       "      <td>0.160317</td>\n",
       "      <td>0.729603</td>\n",
       "      <td>0.236810</td>\n",
       "      <td>0.235393</td>\n",
       "      <td>0.863749</td>\n",
       "      <td>...</td>\n",
       "      <td>0.595979</td>\n",
       "      <td>0.564920</td>\n",
       "      <td>0.515249</td>\n",
       "      <td>0.680500</td>\n",
       "      <td>0.313600</td>\n",
       "      <td>0.658558</td>\n",
       "      <td>0.466291</td>\n",
       "      <td>0.433929</td>\n",
       "      <td>0.329840</td>\n",
       "      <td>0.000030</td>\n",
       "    </tr>\n",
       "    <tr>\n",
       "      <th>284803</th>\n",
       "      <td>0</td>\n",
       "      <td>0.999971</td>\n",
       "      <td>0.945845</td>\n",
       "      <td>0.766677</td>\n",
       "      <td>0.872678</td>\n",
       "      <td>0.219189</td>\n",
       "      <td>0.771561</td>\n",
       "      <td>0.273661</td>\n",
       "      <td>0.265504</td>\n",
       "      <td>0.788548</td>\n",
       "      <td>...</td>\n",
       "      <td>0.580900</td>\n",
       "      <td>0.564933</td>\n",
       "      <td>0.553153</td>\n",
       "      <td>0.665619</td>\n",
       "      <td>0.245298</td>\n",
       "      <td>0.543855</td>\n",
       "      <td>0.360884</td>\n",
       "      <td>0.417775</td>\n",
       "      <td>0.312038</td>\n",
       "      <td>0.000965</td>\n",
       "    </tr>\n",
       "    <tr>\n",
       "      <th>284804</th>\n",
       "      <td>0</td>\n",
       "      <td>0.999977</td>\n",
       "      <td>0.990905</td>\n",
       "      <td>0.764080</td>\n",
       "      <td>0.781102</td>\n",
       "      <td>0.227202</td>\n",
       "      <td>0.783425</td>\n",
       "      <td>0.293496</td>\n",
       "      <td>0.263547</td>\n",
       "      <td>0.792985</td>\n",
       "      <td>...</td>\n",
       "      <td>0.580280</td>\n",
       "      <td>0.565220</td>\n",
       "      <td>0.537005</td>\n",
       "      <td>0.664877</td>\n",
       "      <td>0.468492</td>\n",
       "      <td>0.592824</td>\n",
       "      <td>0.411177</td>\n",
       "      <td>0.416593</td>\n",
       "      <td>0.312585</td>\n",
       "      <td>0.002642</td>\n",
       "    </tr>\n",
       "    <tr>\n",
       "      <th>284805</th>\n",
       "      <td>0</td>\n",
       "      <td>0.999977</td>\n",
       "      <td>0.954209</td>\n",
       "      <td>0.772856</td>\n",
       "      <td>0.849587</td>\n",
       "      <td>0.282508</td>\n",
       "      <td>0.763172</td>\n",
       "      <td>0.269291</td>\n",
       "      <td>0.261175</td>\n",
       "      <td>0.792671</td>\n",
       "      <td>...</td>\n",
       "      <td>0.581622</td>\n",
       "      <td>0.565755</td>\n",
       "      <td>0.547353</td>\n",
       "      <td>0.663008</td>\n",
       "      <td>0.398836</td>\n",
       "      <td>0.545958</td>\n",
       "      <td>0.514746</td>\n",
       "      <td>0.418520</td>\n",
       "      <td>0.315245</td>\n",
       "      <td>0.000389</td>\n",
       "    </tr>\n",
       "    <tr>\n",
       "      <th>284806</th>\n",
       "      <td>0</td>\n",
       "      <td>1.000000</td>\n",
       "      <td>0.949232</td>\n",
       "      <td>0.765256</td>\n",
       "      <td>0.849601</td>\n",
       "      <td>0.229488</td>\n",
       "      <td>0.765632</td>\n",
       "      <td>0.256488</td>\n",
       "      <td>0.274963</td>\n",
       "      <td>0.780938</td>\n",
       "      <td>...</td>\n",
       "      <td>0.584343</td>\n",
       "      <td>0.565688</td>\n",
       "      <td>0.540031</td>\n",
       "      <td>0.671029</td>\n",
       "      <td>0.383420</td>\n",
       "      <td>0.551319</td>\n",
       "      <td>0.291786</td>\n",
       "      <td>0.416466</td>\n",
       "      <td>0.313401</td>\n",
       "      <td>0.008446</td>\n",
       "    </tr>\n",
       "  </tbody>\n",
       "</table>\n",
       "<p>284807 rows × 31 columns</p>\n",
       "</div>"
      ],
      "text/plain": [
       "        Class      Time        V1        V2        V3        V4        V5  \\\n",
       "0           0  0.000000  0.935192  0.766490  0.881365  0.313023  0.763439   \n",
       "1           0  0.000000  0.978542  0.770067  0.840298  0.271796  0.766120   \n",
       "2           0  0.000006  0.935217  0.753118  0.868141  0.268766  0.762329   \n",
       "3           0  0.000006  0.941878  0.765304  0.868484  0.213661  0.765647   \n",
       "4           0  0.000012  0.938617  0.776520  0.864251  0.269796  0.762975   \n",
       "...       ...       ...       ...       ...       ...       ...       ...   \n",
       "284802      0  0.999965  0.756448  0.873531  0.666991  0.160317  0.729603   \n",
       "284803      0  0.999971  0.945845  0.766677  0.872678  0.219189  0.771561   \n",
       "284804      0  0.999977  0.990905  0.764080  0.781102  0.227202  0.783425   \n",
       "284805      0  0.999977  0.954209  0.772856  0.849587  0.282508  0.763172   \n",
       "284806      0  1.000000  0.949232  0.765256  0.849601  0.229488  0.765632   \n",
       "\n",
       "              V6        V7        V8  ...       V20       V21       V22  \\\n",
       "0       0.267669  0.266815  0.786444  ...  0.582942  0.561184  0.522992   \n",
       "1       0.262192  0.264875  0.786298  ...  0.579530  0.557840  0.480237   \n",
       "2       0.281122  0.270177  0.788042  ...  0.585855  0.565477  0.546030   \n",
       "3       0.275559  0.266803  0.789434  ...  0.578050  0.559734  0.510277   \n",
       "4       0.263984  0.268968  0.782484  ...  0.584615  0.561327  0.547271   \n",
       "...          ...       ...       ...  ...       ...       ...       ...   \n",
       "284802  0.236810  0.235393  0.863749  ...  0.595979  0.564920  0.515249   \n",
       "284803  0.273661  0.265504  0.788548  ...  0.580900  0.564933  0.553153   \n",
       "284804  0.293496  0.263547  0.792985  ...  0.580280  0.565220  0.537005   \n",
       "284805  0.269291  0.261175  0.792671  ...  0.581622  0.565755  0.547353   \n",
       "284806  0.256488  0.274963  0.780938  ...  0.584343  0.565688  0.540031   \n",
       "\n",
       "             V23       V24       V25       V26       V27       V28    Amount  \n",
       "0       0.663793  0.391253  0.585122  0.394557  0.418976  0.312697  0.005824  \n",
       "1       0.666938  0.336440  0.587290  0.446013  0.416345  0.313423  0.000105  \n",
       "2       0.678939  0.289354  0.559515  0.402727  0.415489  0.311911  0.014739  \n",
       "3       0.662607  0.223826  0.614245  0.389197  0.417669  0.314371  0.004807  \n",
       "4       0.663392  0.401270  0.566343  0.507497  0.420561  0.317490  0.002724  \n",
       "...          ...       ...       ...       ...       ...       ...       ...  \n",
       "284802  0.680500  0.313600  0.658558  0.466291  0.433929  0.329840  0.000030  \n",
       "284803  0.665619  0.245298  0.543855  0.360884  0.417775  0.312038  0.000965  \n",
       "284804  0.664877  0.468492  0.592824  0.411177  0.416593  0.312585  0.002642  \n",
       "284805  0.663008  0.398836  0.545958  0.514746  0.418520  0.315245  0.000389  \n",
       "284806  0.671029  0.383420  0.551319  0.291786  0.416466  0.313401  0.008446  \n",
       "\n",
       "[284807 rows x 31 columns]"
      ]
     },
     "execution_count": 15,
     "metadata": {},
     "output_type": "execute_result"
    }
   ],
   "source": [
    "#Scaling the data using minmax scaler\n",
    "scaler = MinMaxScaler()\n",
    "temp = scaler.fit_transform(X)\n",
    "X_s = pd.DataFrame(temp, columns=X.columns)\n",
    "df = pd.concat([df[\"Class\"],X_s],axis=1)\n",
    "df"
   ]
  },
  {
   "attachments": {
    "1_P93SeDGPGw0MhwvCcvVcXA.png": {
     "image/png": "[encoded data removed]"
    }
   },
   "cell_type": "markdown",
   "metadata": {},
   "source": [
    "## Random Undersampling and Oversampling\n",
    "![1_P93SeDGPGw0MhwvCcvVcXA.png](attachment:1_P93SeDGPGw0MhwvCcvVcXA.png)\n"
   ]
  },
  {
   "cell_type": "markdown",
   "metadata": {
    "ExecuteTime": {
     "end_time": "2022-04-10T07:12:04.375360Z",
     "start_time": "2022-04-10T07:12:04.328682Z"
    }
   },
   "source": [
    "### OverSampling the minority class(fraud)"
   ]
  },
  {
   "cell_type": "code",
   "execution_count": 16,
   "metadata": {
    "ExecuteTime": {
     "end_time": "2022-04-10T09:58:23.392364Z",
     "start_time": "2022-04-10T09:58:23.361456Z"
    },
    "code_folding": []
   },
   "outputs": [],
   "source": [
    "fraud = df[df[\"Class\"]==1]#creating fraud dataset which contains all datavalues which belongs to class fraud(class 1)\n",
    "fraud = fraud.sample(frac=1) # randomly suffling the dataset\n"
   ]
  },
  {
   "cell_type": "code",
   "execution_count": 17,
   "metadata": {
    "ExecuteTime": {
     "end_time": "2022-04-10T09:58:23.479441Z",
     "start_time": "2022-04-10T09:58:23.397083Z"
    }
   },
   "outputs": [
    {
     "data": {
      "text/html": [
       "<div>\n",
       "<style scoped>\n",
       "    .dataframe tbody tr th:only-of-type {\n",
       "        vertical-align: middle;\n",
       "    }\n",
       "\n",
       "    .dataframe tbody tr th {\n",
       "        vertical-align: top;\n",
       "    }\n",
       "\n",
       "    .dataframe thead th {\n",
       "        text-align: right;\n",
       "    }\n",
       "</style>\n",
       "<table border=\"1\" class=\"dataframe\">\n",
       "  <thead>\n",
       "    <tr style=\"text-align: right;\">\n",
       "      <th></th>\n",
       "      <th>Class</th>\n",
       "      <th>Time</th>\n",
       "      <th>V1</th>\n",
       "      <th>V2</th>\n",
       "      <th>V3</th>\n",
       "      <th>V4</th>\n",
       "      <th>V5</th>\n",
       "      <th>V6</th>\n",
       "      <th>V7</th>\n",
       "      <th>V8</th>\n",
       "      <th>...</th>\n",
       "      <th>V20</th>\n",
       "      <th>V21</th>\n",
       "      <th>V22</th>\n",
       "      <th>V23</th>\n",
       "      <th>V24</th>\n",
       "      <th>V25</th>\n",
       "      <th>V26</th>\n",
       "      <th>V27</th>\n",
       "      <th>V28</th>\n",
       "      <th>Amount</th>\n",
       "    </tr>\n",
       "  </thead>\n",
       "  <tbody>\n",
       "    <tr>\n",
       "      <th>147548</th>\n",
       "      <td>1</td>\n",
       "      <td>0.513172</td>\n",
       "      <td>0.892719</td>\n",
       "      <td>0.795039</td>\n",
       "      <td>0.746191</td>\n",
       "      <td>0.404693</td>\n",
       "      <td>0.761171</td>\n",
       "      <td>0.243867</td>\n",
       "      <td>0.245306</td>\n",
       "      <td>0.774811</td>\n",
       "      <td>...</td>\n",
       "      <td>0.578363</td>\n",
       "      <td>0.588306</td>\n",
       "      <td>0.546655</td>\n",
       "      <td>0.666450</td>\n",
       "      <td>0.487199</td>\n",
       "      <td>0.529455</td>\n",
       "      <td>0.424336</td>\n",
       "      <td>0.396840</td>\n",
       "      <td>0.349110</td>\n",
       "      <td>0.000046</td>\n",
       "    </tr>\n",
       "    <tr>\n",
       "      <th>151196</th>\n",
       "      <td>1</td>\n",
       "      <td>0.549516</td>\n",
       "      <td>0.972599</td>\n",
       "      <td>0.763402</td>\n",
       "      <td>0.794715</td>\n",
       "      <td>0.465636</td>\n",
       "      <td>0.770937</td>\n",
       "      <td>0.256839</td>\n",
       "      <td>0.273690</td>\n",
       "      <td>0.779740</td>\n",
       "      <td>...</td>\n",
       "      <td>0.590326</td>\n",
       "      <td>0.559696</td>\n",
       "      <td>0.451355</td>\n",
       "      <td>0.660616</td>\n",
       "      <td>0.325637</td>\n",
       "      <td>0.565585</td>\n",
       "      <td>0.381529</td>\n",
       "      <td>0.413842</td>\n",
       "      <td>0.315244</td>\n",
       "      <td>0.022244</td>\n",
       "    </tr>\n",
       "    <tr>\n",
       "      <th>15781</th>\n",
       "      <td>1</td>\n",
       "      <td>0.157525</td>\n",
       "      <td>0.529050</td>\n",
       "      <td>0.918390</td>\n",
       "      <td>0.372598</td>\n",
       "      <td>0.533387</td>\n",
       "      <td>0.640069</td>\n",
       "      <td>0.216294</td>\n",
       "      <td>0.155873</td>\n",
       "      <td>0.963806</td>\n",
       "      <td>...</td>\n",
       "      <td>0.597922</td>\n",
       "      <td>0.590185</td>\n",
       "      <td>0.423201</td>\n",
       "      <td>0.647788</td>\n",
       "      <td>0.403345</td>\n",
       "      <td>0.677160</td>\n",
       "      <td>0.389525</td>\n",
       "      <td>0.442571</td>\n",
       "      <td>0.321539</td>\n",
       "      <td>0.003892</td>\n",
       "    </tr>\n",
       "    <tr>\n",
       "      <th>42609</th>\n",
       "      <td>1</td>\n",
       "      <td>0.238263</td>\n",
       "      <td>0.847899</td>\n",
       "      <td>0.817383</td>\n",
       "      <td>0.682036</td>\n",
       "      <td>0.566616</td>\n",
       "      <td>0.718873</td>\n",
       "      <td>0.234646</td>\n",
       "      <td>0.202403</td>\n",
       "      <td>0.828635</td>\n",
       "      <td>...</td>\n",
       "      <td>0.586317</td>\n",
       "      <td>0.596270</td>\n",
       "      <td>0.515233</td>\n",
       "      <td>0.668648</td>\n",
       "      <td>0.461017</td>\n",
       "      <td>0.620587</td>\n",
       "      <td>0.438838</td>\n",
       "      <td>0.442630</td>\n",
       "      <td>0.313837</td>\n",
       "      <td>0.003245</td>\n",
       "    </tr>\n",
       "    <tr>\n",
       "      <th>46909</th>\n",
       "      <td>1</td>\n",
       "      <td>0.248767</td>\n",
       "      <td>0.889048</td>\n",
       "      <td>0.777420</td>\n",
       "      <td>0.749453</td>\n",
       "      <td>0.471624</td>\n",
       "      <td>0.764630</td>\n",
       "      <td>0.234540</td>\n",
       "      <td>0.218935</td>\n",
       "      <td>0.802751</td>\n",
       "      <td>...</td>\n",
       "      <td>0.580892</td>\n",
       "      <td>0.578095</td>\n",
       "      <td>0.517744</td>\n",
       "      <td>0.650323</td>\n",
       "      <td>0.317826</td>\n",
       "      <td>0.560787</td>\n",
       "      <td>0.408119</td>\n",
       "      <td>0.451575</td>\n",
       "      <td>0.323503</td>\n",
       "      <td>0.000039</td>\n",
       "    </tr>\n",
       "    <tr>\n",
       "      <th>...</th>\n",
       "      <td>...</td>\n",
       "      <td>...</td>\n",
       "      <td>...</td>\n",
       "      <td>...</td>\n",
       "      <td>...</td>\n",
       "      <td>...</td>\n",
       "      <td>...</td>\n",
       "      <td>...</td>\n",
       "      <td>...</td>\n",
       "      <td>...</td>\n",
       "      <td>...</td>\n",
       "      <td>...</td>\n",
       "      <td>...</td>\n",
       "      <td>...</td>\n",
       "      <td>...</td>\n",
       "      <td>...</td>\n",
       "      <td>...</td>\n",
       "      <td>...</td>\n",
       "      <td>...</td>\n",
       "      <td>...</td>\n",
       "      <td>...</td>\n",
       "    </tr>\n",
       "    <tr>\n",
       "      <th>248971</th>\n",
       "      <td>1</td>\n",
       "      <td>0.892292</td>\n",
       "      <td>0.948956</td>\n",
       "      <td>0.790673</td>\n",
       "      <td>0.776382</td>\n",
       "      <td>0.262436</td>\n",
       "      <td>0.773037</td>\n",
       "      <td>0.250598</td>\n",
       "      <td>0.263654</td>\n",
       "      <td>0.790903</td>\n",
       "      <td>...</td>\n",
       "      <td>0.581612</td>\n",
       "      <td>0.567349</td>\n",
       "      <td>0.519847</td>\n",
       "      <td>0.659998</td>\n",
       "      <td>0.384364</td>\n",
       "      <td>0.597509</td>\n",
       "      <td>0.531184</td>\n",
       "      <td>0.419684</td>\n",
       "      <td>0.315502</td>\n",
       "      <td>0.000030</td>\n",
       "    </tr>\n",
       "    <tr>\n",
       "      <th>143731</th>\n",
       "      <td>1</td>\n",
       "      <td>0.495254</td>\n",
       "      <td>0.920789</td>\n",
       "      <td>0.801646</td>\n",
       "      <td>0.743209</td>\n",
       "      <td>0.415272</td>\n",
       "      <td>0.745073</td>\n",
       "      <td>0.256270</td>\n",
       "      <td>0.242838</td>\n",
       "      <td>0.804933</td>\n",
       "      <td>...</td>\n",
       "      <td>0.588872</td>\n",
       "      <td>0.576325</td>\n",
       "      <td>0.511789</td>\n",
       "      <td>0.665831</td>\n",
       "      <td>0.275581</td>\n",
       "      <td>0.587814</td>\n",
       "      <td>0.403182</td>\n",
       "      <td>0.436585</td>\n",
       "      <td>0.320710</td>\n",
       "      <td>0.009372</td>\n",
       "    </tr>\n",
       "    <tr>\n",
       "      <th>102444</th>\n",
       "      <td>1</td>\n",
       "      <td>0.394735</td>\n",
       "      <td>0.734167</td>\n",
       "      <td>0.902169</td>\n",
       "      <td>0.665745</td>\n",
       "      <td>0.399118</td>\n",
       "      <td>0.733395</td>\n",
       "      <td>0.320932</td>\n",
       "      <td>0.151123</td>\n",
       "      <td>0.384700</td>\n",
       "      <td>...</td>\n",
       "      <td>0.543073</td>\n",
       "      <td>1.000000</td>\n",
       "      <td>0.095452</td>\n",
       "      <td>0.744197</td>\n",
       "      <td>0.296071</td>\n",
       "      <td>0.592681</td>\n",
       "      <td>0.407664</td>\n",
       "      <td>0.439944</td>\n",
       "      <td>0.332187</td>\n",
       "      <td>0.000039</td>\n",
       "    </tr>\n",
       "    <tr>\n",
       "      <th>68522</th>\n",
       "      <td>1</td>\n",
       "      <td>0.306907</td>\n",
       "      <td>0.961795</td>\n",
       "      <td>0.781897</td>\n",
       "      <td>0.819300</td>\n",
       "      <td>0.439384</td>\n",
       "      <td>0.754625</td>\n",
       "      <td>0.261201</td>\n",
       "      <td>0.247422</td>\n",
       "      <td>0.794602</td>\n",
       "      <td>...</td>\n",
       "      <td>0.584008</td>\n",
       "      <td>0.569043</td>\n",
       "      <td>0.526122</td>\n",
       "      <td>0.662407</td>\n",
       "      <td>0.432986</td>\n",
       "      <td>0.618069</td>\n",
       "      <td>0.462365</td>\n",
       "      <td>0.428112</td>\n",
       "      <td>0.319616</td>\n",
       "      <td>0.000030</td>\n",
       "    </tr>\n",
       "    <tr>\n",
       "      <th>10630</th>\n",
       "      <td>1</td>\n",
       "      <td>0.103234</td>\n",
       "      <td>0.870158</td>\n",
       "      <td>0.840778</td>\n",
       "      <td>0.603288</td>\n",
       "      <td>0.633954</td>\n",
       "      <td>0.690221</td>\n",
       "      <td>0.269779</td>\n",
       "      <td>0.207709</td>\n",
       "      <td>0.842546</td>\n",
       "      <td>...</td>\n",
       "      <td>0.573624</td>\n",
       "      <td>0.595108</td>\n",
       "      <td>0.545494</td>\n",
       "      <td>0.676079</td>\n",
       "      <td>0.295086</td>\n",
       "      <td>0.487138</td>\n",
       "      <td>0.453601</td>\n",
       "      <td>0.428077</td>\n",
       "      <td>0.309680</td>\n",
       "      <td>0.029830</td>\n",
       "    </tr>\n",
       "  </tbody>\n",
       "</table>\n",
       "<p>2460 rows × 31 columns</p>\n",
       "</div>"
      ],
      "text/plain": [
       "        Class      Time        V1        V2        V3        V4        V5  \\\n",
       "147548      1  0.513172  0.892719  0.795039  0.746191  0.404693  0.761171   \n",
       "151196      1  0.549516  0.972599  0.763402  0.794715  0.465636  0.770937   \n",
       "15781       1  0.157525  0.529050  0.918390  0.372598  0.533387  0.640069   \n",
       "42609       1  0.238263  0.847899  0.817383  0.682036  0.566616  0.718873   \n",
       "46909       1  0.248767  0.889048  0.777420  0.749453  0.471624  0.764630   \n",
       "...       ...       ...       ...       ...       ...       ...       ...   \n",
       "248971      1  0.892292  0.948956  0.790673  0.776382  0.262436  0.773037   \n",
       "143731      1  0.495254  0.920789  0.801646  0.743209  0.415272  0.745073   \n",
       "102444      1  0.394735  0.734167  0.902169  0.665745  0.399118  0.733395   \n",
       "68522       1  0.306907  0.961795  0.781897  0.819300  0.439384  0.754625   \n",
       "10630       1  0.103234  0.870158  0.840778  0.603288  0.633954  0.690221   \n",
       "\n",
       "              V6        V7        V8  ...       V20       V21       V22  \\\n",
       "147548  0.243867  0.245306  0.774811  ...  0.578363  0.588306  0.546655   \n",
       "151196  0.256839  0.273690  0.779740  ...  0.590326  0.559696  0.451355   \n",
       "15781   0.216294  0.155873  0.963806  ...  0.597922  0.590185  0.423201   \n",
       "42609   0.234646  0.202403  0.828635  ...  0.586317  0.596270  0.515233   \n",
       "46909   0.234540  0.218935  0.802751  ...  0.580892  0.578095  0.517744   \n",
       "...          ...       ...       ...  ...       ...       ...       ...   \n",
       "248971  0.250598  0.263654  0.790903  ...  0.581612  0.567349  0.519847   \n",
       "143731  0.256270  0.242838  0.804933  ...  0.588872  0.576325  0.511789   \n",
       "102444  0.320932  0.151123  0.384700  ...  0.543073  1.000000  0.095452   \n",
       "68522   0.261201  0.247422  0.794602  ...  0.584008  0.569043  0.526122   \n",
       "10630   0.269779  0.207709  0.842546  ...  0.573624  0.595108  0.545494   \n",
       "\n",
       "             V23       V24       V25       V26       V27       V28    Amount  \n",
       "147548  0.666450  0.487199  0.529455  0.424336  0.396840  0.349110  0.000046  \n",
       "151196  0.660616  0.325637  0.565585  0.381529  0.413842  0.315244  0.022244  \n",
       "15781   0.647788  0.403345  0.677160  0.389525  0.442571  0.321539  0.003892  \n",
       "42609   0.668648  0.461017  0.620587  0.438838  0.442630  0.313837  0.003245  \n",
       "46909   0.650323  0.317826  0.560787  0.408119  0.451575  0.323503  0.000039  \n",
       "...          ...       ...       ...       ...       ...       ...       ...  \n",
       "248971  0.659998  0.384364  0.597509  0.531184  0.419684  0.315502  0.000030  \n",
       "143731  0.665831  0.275581  0.587814  0.403182  0.436585  0.320710  0.009372  \n",
       "102444  0.744197  0.296071  0.592681  0.407664  0.439944  0.332187  0.000039  \n",
       "68522   0.662407  0.432986  0.618069  0.462365  0.428112  0.319616  0.000030  \n",
       "10630   0.676079  0.295086  0.487138  0.453601  0.428077  0.309680  0.029830  \n",
       "\n",
       "[2460 rows x 31 columns]"
      ]
     },
     "execution_count": 17,
     "metadata": {},
     "output_type": "execute_result"
    }
   ],
   "source": [
    "fraud = pd.concat([fraud,fraud,fraud,fraud,fraud])#oversampling fraud dataset by repeating the every datapoints 5 times\n",
    "fraud.sample(frac=1)#randomly suffiling the dataset\n"
   ]
  },
  {
   "cell_type": "markdown",
   "metadata": {},
   "source": [
    "### UnderSampling the majority class(not fraud)"
   ]
  },
  {
   "cell_type": "code",
   "execution_count": 18,
   "metadata": {
    "ExecuteTime": {
     "end_time": "2022-04-10T09:58:23.694479Z",
     "start_time": "2022-04-10T09:58:23.480472Z"
    }
   },
   "outputs": [],
   "source": [
    "nfraud = df[df[\"Class\"]==0]#creating fraud dataset which contains all datavalues which belongs to class not fraud(class 0)\n",
    "nfraud = nfraud.sample(n = 10*(len(fraud)))# creating a ranfraud dataset which is 10 times the size of fraud dataset\n",
    "                                          #so as to use as much data as possible"
   ]
  },
  {
   "cell_type": "code",
   "execution_count": 19,
   "metadata": {
    "ExecuteTime": {
     "end_time": "2022-04-10T09:58:23.750332Z",
     "start_time": "2022-04-10T09:58:23.699120Z"
    }
   },
   "outputs": [],
   "source": [
    "ndf = pd.concat([nfraud,fraud]).sample(frac=1)#creating new dataframe combining fraud and not fraud dataset and \n",
    "                                              #randomly resuffle the rows\n"
   ]
  },
  {
   "cell_type": "code",
   "execution_count": 20,
   "metadata": {
    "ExecuteTime": {
     "end_time": "2022-04-10T09:58:23.813379Z",
     "start_time": "2022-04-10T09:58:23.766618Z"
    }
   },
   "outputs": [],
   "source": [
    "X = ndf.drop(['Class'], axis=1)#asigning all features except \"Class\" to dataframe X\n",
    "y = ndf['Class']#asigning target variable to y"
   ]
  },
  {
   "cell_type": "code",
   "execution_count": 21,
   "metadata": {
    "ExecuteTime": {
     "end_time": "2022-04-10T09:58:23.904833Z",
     "start_time": "2022-04-10T09:58:23.818647Z"
    }
   },
   "outputs": [],
   "source": [
    "X_train,X_test,y_train,y_test = train_test_split(X,y, test_size = 0.25, random_state = 42, stratify = y)"
   ]
  },
  {
   "cell_type": "markdown",
   "metadata": {},
   "source": [
    "# Feeding the preprocessed data to algorithms"
   ]
  },
  {
   "cell_type": "code",
   "execution_count": 22,
   "metadata": {
    "ExecuteTime": {
     "end_time": "2022-04-10T09:58:23.929808Z",
     "start_time": "2022-04-10T09:58:23.907823Z"
    }
   },
   "outputs": [],
   "source": [
    "# Algorithms\n",
    "log_reg = LogisticRegression()\n",
    "svc = SVC()\n",
    "knn = KNeighborsClassifier()\n",
    "d_tree = DecisionTreeClassifier()\n",
    "rf_clf = RandomForestClassifier()\n"
   ]
  },
  {
   "cell_type": "code",
   "execution_count": null,
   "metadata": {
    "ExecuteTime": {
     "end_time": "2022-04-10T09:01:07.000782Z",
     "start_time": "2022-04-10T09:01:04.284995Z"
    }
   },
   "outputs": [],
   "source": []
  },
  {
   "cell_type": "code",
   "execution_count": 23,
   "metadata": {
    "ExecuteTime": {
     "end_time": "2022-04-10T09:58:24.480108Z",
     "start_time": "2022-04-10T09:58:23.936852Z"
    }
   },
   "outputs": [],
   "source": [
    "#training the model on LogistcRegreesion\n",
    "log_reg = LogisticRegression()\n",
    "log_reg.fit(X_train,y_train)\n",
    "\n",
    "y_log_reg = log_reg.predict(X_test)"
   ]
  },
  {
   "cell_type": "markdown",
   "metadata": {},
   "source": [
    "<h1>Confusion Matrix</h1>\n",
    "<li>Upper Left Square: The amount of correctly classified by our model of no fraud transactions.</li>\n",
    "<li>Upper Right Square: The amount of incorrectly classified transactions as fraud cases, but the actual label is no fraud .</li>\n",
    "<li>Lower Left Square: The amount of incorrectly classified transactions as no fraud cases, but the actual label is fraud .</li>\n",
    "<li>Lower Right Square: The amount of correctly classified by our model of fraud transactions.</li>"
   ]
  },
  {
   "cell_type": "code",
   "execution_count": 24,
   "metadata": {
    "ExecuteTime": {
     "end_time": "2022-04-10T09:58:24.514522Z",
     "start_time": "2022-04-10T09:58:24.483649Z"
    }
   },
   "outputs": [
    {
     "name": "stdout",
     "output_type": "stream",
     "text": [
      "[[6142    8]\n",
      " [ 109  506]]\n"
     ]
    },
    {
     "data": {
      "text/plain": [
       "0.8227642276422764"
      ]
     },
     "execution_count": 24,
     "metadata": {},
     "output_type": "execute_result"
    }
   ],
   "source": [
    "print(confusion_matrix(y_test,y_log_reg))\n",
    "recall_score(y_test,y_log_reg)"
   ]
  },
  {
   "cell_type": "code",
   "execution_count": 25,
   "metadata": {
    "ExecuteTime": {
     "end_time": "2022-04-10T09:58:29.678838Z",
     "start_time": "2022-04-10T09:58:24.519123Z"
    }
   },
   "outputs": [],
   "source": [
    "#training the model on SupportVerctorMachines algorithm\n",
    "svc = SVC()\n",
    "svc.fit(X_train,y_train)\n",
    "\n",
    "y_svc = svc.predict(X_test)"
   ]
  },
  {
   "cell_type": "code",
   "execution_count": 26,
   "metadata": {
    "ExecuteTime": {
     "end_time": "2022-04-10T09:58:29.709803Z",
     "start_time": "2022-04-10T09:58:29.682735Z"
    }
   },
   "outputs": [
    {
     "name": "stdout",
     "output_type": "stream",
     "text": [
      "[[6143    7]\n",
      " [ 106  509]]\n"
     ]
    },
    {
     "data": {
      "text/plain": [
       "0.8276422764227642"
      ]
     },
     "execution_count": 26,
     "metadata": {},
     "output_type": "execute_result"
    }
   ],
   "source": [
    "print(confusion_matrix(y_test,y_svc))\n",
    "recall_score(y_test,y_svc)"
   ]
  },
  {
   "cell_type": "code",
   "execution_count": 27,
   "metadata": {
    "ExecuteTime": {
     "end_time": "2022-04-10T09:58:43.165795Z",
     "start_time": "2022-04-10T09:58:29.711797Z"
    }
   },
   "outputs": [],
   "source": [
    "#training the model on KNeighborsClassifiers algorithm\n",
    "knn = KNeighborsClassifier()\n",
    "knn.fit(X_train,y_train)\n",
    "\n",
    "y_knn = knn.predict(X_test)"
   ]
  },
  {
   "cell_type": "code",
   "execution_count": 28,
   "metadata": {
    "ExecuteTime": {
     "end_time": "2022-04-10T09:58:43.219889Z",
     "start_time": "2022-04-10T09:58:43.173059Z"
    }
   },
   "outputs": [
    {
     "name": "stdout",
     "output_type": "stream",
     "text": [
      "[[6116   34]\n",
      " [  29  586]]\n"
     ]
    },
    {
     "data": {
      "text/plain": [
       "0.9528455284552846"
      ]
     },
     "execution_count": 28,
     "metadata": {},
     "output_type": "execute_result"
    }
   ],
   "source": [
    "print(confusion_matrix(y_test,y_knn))\n",
    "recall_score(y_test,y_knn)"
   ]
  },
  {
   "cell_type": "code",
   "execution_count": 29,
   "metadata": {
    "ExecuteTime": {
     "end_time": "2022-04-10T09:58:45.675209Z",
     "start_time": "2022-04-10T09:58:43.224954Z"
    }
   },
   "outputs": [],
   "source": [
    "#training the model on DecisionTreeClassifier algorithm\n",
    "\n",
    "d_tree = DecisionTreeClassifier()\n",
    "d_tree.fit(X_train,y_train)\n",
    "\n",
    "y_d_tree = d_tree.predict(X_test)\n"
   ]
  },
  {
   "cell_type": "code",
   "execution_count": 30,
   "metadata": {
    "ExecuteTime": {
     "end_time": "2022-04-10T09:58:45.734252Z",
     "start_time": "2022-04-10T09:58:45.678201Z"
    }
   },
   "outputs": [
    {
     "name": "stdout",
     "output_type": "stream",
     "text": [
      "[[6128   22]\n",
      " [   0  615]]\n"
     ]
    },
    {
     "data": {
      "text/plain": [
       "1.0"
      ]
     },
     "execution_count": 30,
     "metadata": {},
     "output_type": "execute_result"
    }
   ],
   "source": [
    "print(confusion_matrix(y_test,y_d_tree))\n",
    "recall_score(y_test,y_d_tree)"
   ]
  },
  {
   "cell_type": "code",
   "execution_count": 31,
   "metadata": {
    "ExecuteTime": {
     "end_time": "2022-04-10T09:59:14.554911Z",
     "start_time": "2022-04-10T09:58:45.736704Z"
    }
   },
   "outputs": [],
   "source": [
    "#training the model on DecisionTreeClassifier algorithm\n",
    "\n",
    "rf_clf = RandomForestClassifier()\n",
    "rf_clf.fit(X_train,y_train)\n",
    "\n",
    "y_rf_clf = rf_clf.predict(X_test)"
   ]
  },
  {
   "cell_type": "code",
   "execution_count": 32,
   "metadata": {
    "ExecuteTime": {
     "end_time": "2022-04-10T09:59:14.590548Z",
     "start_time": "2022-04-10T09:59:14.555907Z"
    }
   },
   "outputs": [
    {
     "name": "stdout",
     "output_type": "stream",
     "text": [
      "[[6143    7]\n",
      " [   4  611]]\n"
     ]
    },
    {
     "data": {
      "text/plain": [
       "0.9934959349593496"
      ]
     },
     "execution_count": 32,
     "metadata": {},
     "output_type": "execute_result"
    }
   ],
   "source": [
    "print(confusion_matrix(y_test,y_rf_clf))\n",
    "recall_score(y_test,y_rf_clf) "
   ]
  },
  {
   "cell_type": "markdown",
   "metadata": {},
   "source": [
    "## Cross Validation\n",
    "<h3>To check weather the model is over fitting </h3>"
   ]
  },
  {
   "cell_type": "code",
   "execution_count": 33,
   "metadata": {
    "ExecuteTime": {
     "start_time": "2022-04-10T09:44:53.576Z"
    }
   },
   "outputs": [
    {
     "data": {
      "text/plain": [
       "array([1., 1., 1., 1., 1., 1., 1., 1., 1., 1.])"
      ]
     },
     "execution_count": 33,
     "metadata": {},
     "output_type": "execute_result"
    }
   ],
   "source": [
    "from sklearn.model_selection import cross_val_score\n",
    "\n",
    "scores = cross_val_score(rf_clf,X,y,scoring=\"recall\",cv=10)\n",
    "scores"
   ]
  },
  {
   "cell_type": "markdown",
   "metadata": {},
   "source": [
    "# Performance of our model on our total dataset"
   ]
  },
  {
   "cell_type": "code",
   "execution_count": 34,
   "metadata": {
    "ExecuteTime": {
     "start_time": "2022-04-10T09:44:53.579Z"
    }
   },
   "outputs": [],
   "source": [
    "y_pred = rf_clf.predict(X_s) # feeding Scaled features(X_s) to random forest classifier"
   ]
  },
  {
   "cell_type": "code",
   "execution_count": 35,
   "metadata": {
    "ExecuteTime": {
     "start_time": "2022-04-10T09:44:53.583Z"
    }
   },
   "outputs": [
    {
     "data": {
      "text/plain": [
       "array([[284158,    157],\n",
       "       [     1,    491]], dtype=int64)"
      ]
     },
     "execution_count": 35,
     "metadata": {},
     "output_type": "execute_result"
    }
   ],
   "source": [
    "confusion_matrix(df[\"Class\"],y_pred)"
   ]
  },
  {
   "cell_type": "markdown",
   "metadata": {},
   "source": [
    "## Conclusion\n",
    " Of all given input cases(284807) only 492 cases are fraud. the model was able to <string>detect all the fraud transactions</strong>. But it also **flagged about 120 non fraud transaction as fraud which is affordable** as they are very less in number.The highlight of the model is that is has detected all the fraud tractions(<strong>recall score is 1</strong>)"
   ]
  },
  {
   "cell_type": "code",
   "execution_count": null,
   "metadata": {},
   "outputs": [],
   "source": []
  },
  {
   "cell_type": "code",
   "execution_count": null,
   "metadata": {},
   "outputs": [],
   "source": []
  }
 ],
 "metadata": {
  "kernelspec": {
   "display_name": "Python 3 (ipykernel)",
   "language": "python",
   "name": "python3"
  },
  "language_info": {
   "codemirror_mode": {
    "name": "ipython",
    "version": 3
   },
   "file_extension": ".py",
   "mimetype": "text/x-python",
   "name": "python",
   "nbconvert_exporter": "python",
   "pygments_lexer": "ipython3",
   "version": "3.9.12"
  },
  "varInspector": {
   "cols": {
    "lenName": 16,
    "lenType": 16,
    "lenVar": 40
   },
   "kernels_config": {
    "python": {
     "delete_cmd_postfix": "",
     "delete_cmd_prefix": "del ",
     "library": "var_list.py",
     "varRefreshCmd": "print(var_dic_list())"
    },
    "r": {
     "delete_cmd_postfix": ") ",
     "delete_cmd_prefix": "rm(",
     "library": "var_list.r",
     "varRefreshCmd": "cat(var_dic_list()) "
    }
   },
   "types_to_exclude": [
    "module",
    "function",
    "builtin_function_or_method",
    "instance",
    "_Feature"
   ],
   "window_display": false
  }
 },
 "nbformat": 4,
 "nbformat_minor": 4
}
